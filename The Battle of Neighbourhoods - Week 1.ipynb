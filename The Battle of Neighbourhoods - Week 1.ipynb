{
 "cells": [
  {
   "cell_type": "markdown",
   "metadata": {},
   "source": [
    "<h3>The Battle of Neighbourhoods Capstone Project<h3>"
   ]
  },
  {
   "cell_type": "markdown",
   "metadata": {},
   "source": [
    "<h1>Where will be the biggest cluster of Middle Eastern Restaurant in US<h1>"
   ]
  },
  {
   "cell_type": "markdown",
   "metadata": {},
   "source": [
    "<b>Introduction<b>"
   ]
  },
  {
   "cell_type": "markdown",
   "metadata": {},
   "source": [
    "You are a buisness man and your job sometimes require attending dinner meetings with clients from all over the world.\n",
    "One of your customers is from the middle east, Now you want to pay him a visit to a state where you can find a high density of Middle Eastern Restaurant.\n",
    "We are going to analyze the best 5 places in US with the highest density of Middle Eastern Restaurant "
   ]
  },
  {
   "cell_type": "markdown",
   "metadata": {},
   "source": [
    "<b>Data Section<b>"
   ]
  },
  {
   "cell_type": "markdown",
   "metadata": {},
   "source": [
    "I will be using the FourSquare API to collect data about locations of Middle Eastern Restaurant in 4 of the most famous US cities (New York, Chicago, San Francisco, Boston)."
   ]
  },
  {
   "cell_type": "markdown",
   "metadata": {},
   "source": [
    "<b>Methodology<b>"
   ]
  },
  {
   "cell_type": "markdown",
   "metadata": {},
   "source": [
    "My main target here is to asses which city would have the highest Middle Eastern Restaurant density. \n",
    "I used the Four Square API through the venues channel. I used the near query to get venues in the cities. Also, I use the CategoryID to set it to show only Middle Eastern Restaurant Places. \n",
    "\n",
    "An Example of my requests:\n",
    "https://api.foursquare.com/v2/venues/explore?&client_id=&client_secret=&v=20180605&New York, NY&limit=100&categoryId= 4bf58dd8d48988d115941735\n",
    "That 4bf58dd8d48988d115941735 is the Id of the Middle Eastern Restaurant Place Category. Also, Foursquare limits us to maximum of 100 venues per query.\n",
    "\n",
    "Moreover, I repeated this request for the 4 studied cities and got their top 100 venues. I saved the name and coordinate data only from the result and plotted them on the map for visual inspection.\n",
    "\n",
    "Next, to get an indicator of the density of Middle Eastern Restaurant Places, I calculated a center coordinate of the venues to get the mean longitude and latitude values. \n",
    "Then I calculated the mean of the Euclidean distance from each venue to the mean coordinates. That was my indicator; mean distance to the mean coordinate.\n"
   ]
  },
  {
   "cell_type": "code",
   "execution_count": null,
   "metadata": {},
   "outputs": [],
   "source": []
  }
 ],
 "metadata": {
  "kernelspec": {
   "display_name": "Python 3",
   "language": "python",
   "name": "python3"
  },
  "language_info": {
   "codemirror_mode": {
    "name": "ipython",
    "version": 3
   },
   "file_extension": ".py",
   "mimetype": "text/x-python",
   "name": "python",
   "nbconvert_exporter": "python",
   "pygments_lexer": "ipython3",
   "version": "3.8.3"
  }
 },
 "nbformat": 4,
 "nbformat_minor": 4
}
